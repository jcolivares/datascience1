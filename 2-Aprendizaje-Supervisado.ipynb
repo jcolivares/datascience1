{
 "cells": [
  {
   "cell_type": "markdown",
   "metadata": {
    "ein.tags": [
     "worksheet-0"
    ],
    "slideshow": {
     "slide_type": "slide"
    }
   },
   "source": [
    "# Aprendizaje Computacional  \n",
    "\n",
    "## Mario Graff (mgraffg@ieee.org, mario.graff@infotec.mx)  \n",
    "## [https://github.com/ingeotec](https://github.com/ingeotec)\n",
    "## [https://github.com/mgraffg](https://github.com/mgraffg)\n",
    "## CONACYT - INFOTEC "
   ]
  },
  {
   "cell_type": "markdown",
   "metadata": {
    "ein.tags": [
     "worksheet-0"
    ],
    "slideshow": {
     "slide_type": "slide"
    }
   },
   "source": [
    "# Temas\n",
    "\n",
    "1. Introducción\n",
    "2. Aprendizaje supervisado\n",
    "3. Métodos paramétricos\n",
    "4. Métodos no-paramétricos\n",
    "5. Máquinas de kernel\n",
    "6. Métodos no convencionales de aprendizaje\n",
    "7. Diseño y análisis de experimentos de aprendizaje\n",
    "8. Aplicaciones"
   ]
  },
  {
   "cell_type": "markdown",
   "metadata": {
    "ein.tags": [
     "worksheet-0"
    ],
    "slideshow": {
     "slide_type": "slide"
    }
   },
   "source": [
    "# Aprendizaje Supervisado\n",
    "\n",
    "2.1. Introducción  \n",
    "2.2. Aprendizaje como búsqueda  \n",
    "2.3. Definiciones  \n",
    "2.4. Actividades  \n"
   ]
  },
  {
   "cell_type": "markdown",
   "metadata": {
    "ein.tags": [
     "worksheet-0"
    ],
    "slideshow": {
     "slide_type": "slide"
    }
   },
   "source": [
    "# Aprendizaje Supervisado\n",
    "\n",
    "* Encontrar una función $h^*$ que se comporta como $f$\n",
    "* Utilizando lo siguientes elementos  \n",
    "  * $\\mathcal X$ conjunto de entrenamiento\n",
    "  * $\\mathcal V$ conjunto de validación\n",
    "  * $\\mathcal P$ conjunto público o test set"
   ]
  },
  {
   "cell_type": "markdown",
   "metadata": {
    "ein.tags": [
     "worksheet-0"
    ],
    "slideshow": {
     "slide_type": "fragment"
    }
   },
   "source": [
    "* $\\mathcal X=\\{x_t, r_t\\}_t^N$  \n",
    "  $x_t$ representa un objeto  \n",
    "  $r_t=f(x_t)$ es su respuesta"
   ]
  },
  {
   "cell_type": "markdown",
   "metadata": {
    "ein.tags": [
     "worksheet-0"
    ],
    "slideshow": {
     "slide_type": "subslide"
    }
   },
   "source": [
    "# Aprendizaje Supervisado\n",
    "\n",
    "* $\\mathcal H$ clase de hipótesis  \n",
    "* $L$ función de error  \n",
    "* $E(h \\mid \\mathcal X) = \\sum_{x, r \\in \\mathcal X} L(r, h(x))$ error empírico.  \n"
   ]
  },
  {
   "cell_type": "markdown",
   "metadata": {
    "ein.tags": [
     "worksheet-0"
    ],
    "slideshow": {
     "slide_type": "fragment"
    }
   },
   "source": [
    "* $h^* = \\text{argmin}_{h \\in \\mathcal{H}} E(h \\mid \\mathcal X)$"
   ]
  },
  {
   "cell_type": "markdown",
   "metadata": {
    "ein.tags": [
     "worksheet-0"
    ],
    "slideshow": {
     "slide_type": "subslide"
    }
   },
   "source": [
    "# Características\n",
    "\n",
    "* Normalmente $h \\in \\mathcal{H}$ tiene la forma  \n",
    "  $h: (x_1, x_2, \\ldots, x_d) \\rightarrow r$ donde $x_i \\in \\mathbb R$  \n",
    "  * $r \\in \\{0, 1\\}$ en clasificación binaria  \n",
    "  * $r \\in \\{0, 1\\}^K$ en clasificación multi-clase o multi-etiqueta  \n",
    "  * $r \\in \\mathbb R$ para regresión"
   ]
  },
  {
   "cell_type": "markdown",
   "metadata": {
    "ein.tags": [
     "worksheet-0"
    ],
    "slideshow": {
     "slide_type": "slide"
    }
   },
   "source": [
    "# Aprendiendo por ejemplos\n",
    "\n",
    "* Problema binario - dos clases\n",
    "* Diagnóstico médico\n",
    "* Presenta la condición - _ejemplo positivo_\n",
    "* Sano - _ejemplo negativo_ "
   ]
  },
  {
   "cell_type": "markdown",
   "metadata": {
    "ein.tags": [
     "worksheet-0"
    ],
    "slideshow": {
     "slide_type": "subslide"
    }
   },
   "source": [
    "# Representación"
   ]
  },
  {
   "cell_type": "code",
   "execution_count": 1,
   "metadata": {
    "autoscroll": "json-false",
    "collapsed": false,
    "ein.tags": [
     "worksheet-0"
    ],
    "slideshow": {
     "slide_type": "fragment"
    }
   },
   "outputs": [
    {
     "data": {
      "text/html": [
       "<div>\n<style>\n    .dataframe thead tr:only-child th {\n        text-align: right;\n    }\n\n    .dataframe thead th {\n        text-align: left;\n    }\n\n    .dataframe tbody tr th {\n        vertical-align: top;\n    }\n</style>\n<table border=\"1\" class=\"dataframe\">\n  <thead>\n    <tr style=\"text-align: right;\">\n      <th></th>\n      <th>x</th>\n      <th>y</th>\n      <th>Clase</th>\n    </tr>\n  </thead>\n  <tbody>\n    <tr>\n      <th>0</th>\n      <td>0.845966016721</td>\n      <td>0.2272219628</td>\n      <td>Positiva</td>\n    </tr>\n    <tr>\n      <th>1</th>\n      <td>-0.2223811629</td>\n      <td>0.376604551286</td>\n      <td>Positiva</td>\n    </tr>\n    <tr>\n      <th>2</th>\n      <td>-0.6955000752</td>\n      <td>-0.0866044311334</td>\n      <td>Positiva</td>\n    </tr>\n    <tr>\n      <th>3</th>\n      <td>-0.538578236827</td>\n      <td>0.510970126201</td>\n      <td>Positiva</td>\n    </tr>\n    <tr>\n      <th>4</th>\n      <td>0.186004500306</td>\n      <td>0.884731365035</td>\n      <td>Positiva</td>\n    </tr>\n    <tr>\n      <th>5</th>\n      <td>-0.221582389895</td>\n      <td>0.867895604877</td>\n      <td>Positiva</td>\n    </tr>\n    <tr>\n      <th>6</th>\n      <td>0.530227463791</td>\n      <td>1.52127881101</td>\n      <td>Positiva</td>\n    </tr>\n    <tr>\n      <th>7</th>\n      <td>0.409466783697</td>\n      <td>0.562919467398</td>\n      <td>Positiva</td>\n    </tr>\n    <tr>\n      <th>8</th>\n      <td>-0.846729869285</td>\n      <td>-0.620875090655</td>\n      <td>Positiva</td>\n    </tr>\n    <tr>\n      <th>9</th>\n      <td>0.224318635511</td>\n      <td>0.331025280914</td>\n      <td>Positiva</td>\n    </tr>\n    <tr>\n      <th>10</th>\n      <td>2.10404735448</td>\n      <td>-0.703871199282</td>\n      <td>Negativa</td>\n    </tr>\n    <tr>\n      <th>11</th>\n      <td>2.06381160439</td>\n      <td>0.570731361147</td>\n      <td>Negativa</td>\n    </tr>\n    <tr>\n      <th>12</th>\n      <td>2.22901340732</td>\n      <td>-1.47040635604</td>\n      <td>Negativa</td>\n    </tr>\n    <tr>\n      <th>13</th>\n      <td>2.33491492158</td>\n      <td>-0.417573328386</td>\n      <td>Negativa</td>\n    </tr>\n    <tr>\n      <th>14</th>\n      <td>2.094645304</td>\n      <td>-0.342320998094</td>\n      <td>Negativa</td>\n    </tr>\n    <tr>\n      <th>15</th>\n      <td>1.86421426795</td>\n      <td>-0.760251899072</td>\n      <td>Negativa</td>\n    </tr>\n    <tr>\n      <th>16</th>\n      <td>1.97376542144</td>\n      <td>-0.908558848299</td>\n      <td>Negativa</td>\n    </tr>\n    <tr>\n      <th>17</th>\n      <td>2.31362528115</td>\n      <td>-0.0293454743834</td>\n      <td>Negativa</td>\n    </tr>\n    <tr>\n      <th>18</th>\n      <td>2.74416653106</td>\n      <td>-1.26868375204</td>\n      <td>Negativa</td>\n    </tr>\n    <tr>\n      <th>19</th>\n      <td>2.42995683521</td>\n      <td>-0.733073300126</td>\n      <td>Negativa</td>\n    </tr>\n  </tbody>\n</table>\n</div>text/plain                  x                 y     Clase\n0    0.845966016721      0.2272219628  Positiva\n1     -0.2223811629    0.376604551286  Positiva\n2     -0.6955000752  -0.0866044311334  Positiva\n3   -0.538578236827    0.510970126201  Positiva\n4    0.186004500306    0.884731365035  Positiva\n5   -0.221582389895    0.867895604877  Positiva\n6    0.530227463791     1.52127881101  Positiva\n7    0.409466783697    0.562919467398  Positiva\n8   -0.846729869285   -0.620875090655  Positiva\n9    0.224318635511    0.331025280914  Positiva\n10    2.10404735448   -0.703871199282  Negativa\n11    2.06381160439    0.570731361147  Negativa\n12    2.22901340732    -1.47040635604  Negativa\n13    2.33491492158   -0.417573328386  Negativa\n14      2.094645304   -0.342320998094  Negativa\n15    1.86421426795   -0.760251899072  Negativa\n16    1.97376542144   -0.908558848299  Negativa\n17    2.31362528115  -0.0293454743834  Negativa\n18    2.74416653106    -1.26868375204  Negativa\n19    2.42995683521   -0.733073300126  Negativa"
      ]
     },
     "execution_count": 1,
     "metadata": {},
     "output_type": "execute_result"
    }
   ],
   "source": [
    "import pandas as pd\n",
    "import numpy as np\n",
    "pos = np.random.multivariate_normal([0, 0.3], \n",
    "                                    [[0.3, 0.1], [0.1, 0.3]], size=100)\n",
    "neg = np.random.multivariate_normal([2.3, -0.3], \n",
    "                                    [[0.1, 0.01], [0.01, 0.3]], size=100)\n",
    "xpos = [x[0] for x in pos[:10]]\n",
    "ypos = [x[1] for x in pos[:10]]\n",
    "x_y_pos = np.array([xpos, ypos, ['Positiva' for x in range(10)]]).T\n",
    "xneg = [x[0] for x in neg[:10]]\n",
    "yneg = [x[1] for x in neg[:10]]\n",
    "x_y_neg = np.array([xneg, yneg, ['Negativa' for x in range(10)]]).T\n",
    "d = np.concatenate([x_y_pos, x_y_neg])\n",
    "pd.DataFrame(d[:10], columns=['x', 'y', 'Clase'])"
   ]
  },
  {
   "cell_type": "markdown",
   "metadata": {
    "ein.tags": [
     "worksheet-0"
    ],
    "slideshow": {
     "slide_type": "subslide"
    }
   },
   "source": [
    "# Clasificación"
   ]
  },
  {
   "cell_type": "code",
   "execution_count": 2,
   "metadata": {
    "autoscroll": "json-false",
    "collapsed": false,
    "ein.tags": [
     "worksheet-0"
    ],
    "slideshow": {
     "slide_type": "fragment"
    }
   },
   "outputs": [
    {
     "name": "stdout",
     "output_type": "stream",
     "text": [
      "Populating the interactive namespace from numpy and matplotlib\n"
     ]
    },
    {
     "data": {
      "text/plain": [
       "<matplotlib.legend.Legend at 0x119a3dac8>"
      ]
     },
     "execution_count": 2,
     "metadata": {},
     "output_type": "execute_result"
    },
    {
     "data": {
      "image/png": "[encoded data removed]",
      "text/plain": [
       "<matplotlib.figure.Figure at 0x119963fd0>"
      ]
     },
     "metadata": {},
     "output_type": "display_data"
    }
   ],
   "source": [
    "%pylab inline\n",
    "pylab.plot([x[0] for x in pos], [x[1] for x in pos], '*')\n",
    "pylab.plot([x[0] for x in neg], [x[1] for x in neg], '*')\n",
    "pylab.legend(['Positiva', 'Negativa'])"
   ]
  },
  {
   "cell_type": "markdown",
   "metadata": {
    "ein.tags": [
     "worksheet-0"
    ],
    "slideshow": {
     "slide_type": "subslide"
    }
   },
   "source": [
    "# Regresión"
   ]
  },
  {
   "cell_type": "code",
   "execution_count": 3,
   "metadata": {
    "autoscroll": "json-false",
    "collapsed": false,
    "ein.tags": [
     "worksheet-0"
    ],
    "slideshow": {
     "slide_type": "fragment"
    }
   },
   "outputs": [
    {
     "data": {
      "text/html": [
       "<div>\n<style>\n    .dataframe thead tr:only-child th {\n        text-align: right;\n    }\n\n    .dataframe thead th {\n        text-align: left;\n    }\n\n    .dataframe tbody tr th {\n        vertical-align: top;\n    }\n</style>\n<table border=\"1\" class=\"dataframe\">\n  <thead>\n    <tr style=\"text-align: right;\">\n      <th></th>\n      <th>x</th>\n      <th>y</th>\n    </tr>\n  </thead>\n  <tbody>\n    <tr>\n      <th>0</th>\n      <td>-10.000000</td>\n      <td>-135.643180</td>\n    </tr>\n    <tr>\n      <th>1</th>\n      <td>-9.797980</td>\n      <td>-128.953141</td>\n    </tr>\n    <tr>\n      <th>2</th>\n      <td>-9.595960</td>\n      <td>-119.443999</td>\n    </tr>\n    <tr>\n      <th>3</th>\n      <td>-9.393939</td>\n      <td>-123.966561</td>\n    </tr>\n    <tr>\n      <th>4</th>\n      <td>-9.191919</td>\n      <td>-109.752649</td>\n    </tr>\n    <tr>\n      <th>5</th>\n      <td>-8.989899</td>\n      <td>-111.036344</td>\n    </tr>\n    <tr>\n      <th>6</th>\n      <td>-8.787879</td>\n      <td>-107.215624</td>\n    </tr>\n    <tr>\n      <th>7</th>\n      <td>-8.585859</td>\n      <td>-96.174520</td>\n    </tr>\n    <tr>\n      <th>8</th>\n      <td>-8.383838</td>\n      <td>-101.813805</td>\n    </tr>\n    <tr>\n      <th>9</th>\n      <td>-8.181818</td>\n      <td>-88.988654</td>\n    </tr>\n  </tbody>\n</table>\n</div>text/plain           x           y\n0 -10.000000 -135.643180\n1  -9.797980 -128.953141\n2  -9.595960 -119.443999\n3  -9.393939 -123.966561\n4  -9.191919 -109.752649\n5  -8.989899 -111.036344\n6  -8.787879 -107.215624\n7  -8.585859  -96.174520\n8  -8.383838 -101.813805\n9  -8.181818  -88.988654"
      ]
     },
     "execution_count": 3,
     "metadata": {},
     "output_type": "execute_result"
    }
   ],
   "source": [
    "x = np.linspace(-10, 10, 100)\n",
    "y = 5.3 * np.sin(12.2 * x) + 2.3 * x - 1.1 * x**2\n",
    "pd.DataFrame((np.vstack([x, y]).T)[:10], columns=['x', 'y'])"
   ]
  },
  {
   "cell_type": "code",
   "execution_count": 4,
   "metadata": {
    "autoscroll": "json-false",
    "collapsed": false,
    "ein.tags": [
     "worksheet-0"
    ],
    "slideshow": {
     "slide_type": "subslide"
    }
   },
   "outputs": [
    {
     "data": {
      "text/plain": [
       "[<matplotlib.lines.Line2D at 0x119b43cc0>]"
      ]
     },
     "execution_count": 4,
     "metadata": {},
     "output_type": "execute_result"
    },
    {
     "data": {
      "image/png": "[encoded data removed]",
      "text/plain": [
       "<matplotlib.figure.Figure at 0x119a11518>"
      ]
     },
     "metadata": {},
     "output_type": "display_data"
    }
   ],
   "source": [
    "\n",
    "plot(x, y)"
   ]
  },
  {
   "cell_type": "markdown",
   "metadata": {
    "ein.tags": [
     "worksheet-0"
    ],
    "slideshow": {
     "slide_type": "slide"
    }
   },
   "source": [
    "# Clasificación y Regresión\n",
    "* Clasificación  \n",
    "  Sea $\\mathbb Z_2=\\{0, 1\\}$  \n",
    "  $r \\in \\mathbb Z_2$  \n",
    "* Regresión  \n",
    "  $r \\in \\mathbb R$"
   ]
  },
  {
   "cell_type": "markdown",
   "metadata": {
    "ein.tags": [
     "worksheet-0"
    ],
    "slideshow": {
     "slide_type": "subslide"
    }
   },
   "source": [
    "# Clasificación multiclase\n",
    "\n",
    "* $\\mathbf r \\in \\mathbb Z_2^K$  \n",
    "  donde $\\mathbf r_i = 1$ si $\\mathbf x$ pertenece a la clase $i$-ésima  \n",
    "  y $\\forall_{j \\neq i} \\mathbf r_j = 0$\n"
   ]
  },
  {
   "cell_type": "markdown",
   "metadata": {
    "ein.tags": [
     "worksheet-0"
    ],
    "slideshow": {
     "slide_type": "fragment"
    }
   },
   "source": [
    "# Clasificación multietiqueta\n",
    "\n",
    "* $\\mathbf r \\in \\mathbb Z_2^K$  \n",
    "  donde $\\mathbf r_i = 1$ si $\\mathbf x$ pertenece a la clase $i$-ésima\n",
    "* la instancia $\\mathbf x$ puede pertenecer a una o mas clases."
   ]
  },
  {
   "cell_type": "markdown",
   "metadata": {
    "ein.tags": [
     "worksheet-0"
    ],
    "slideshow": {
     "slide_type": "fragment"
    }
   },
   "source": [
    "# Hipótesis y error empírico\n",
    "\n",
    "* $\\mathbf h = (h_1, h_2, \\ldots, h_K)$ donde $h_i \\in \\mathcal H$  \n",
    "  Hay una hipótesis $h_i$ por cada clase\n",
    "* $E(\\mathbf h | \\mathcal X) = \\sum_i^K E(h_i | \\mathcal X)$"
   ]
  },
  {
   "cell_type": "markdown",
   "metadata": {
    "ein.tags": [
     "worksheet-0"
    ],
    "slideshow": {
     "slide_type": "slide"
    }
   },
   "source": [
    "# Definiciones\n",
    "\n",
    "* Problema mal formulado  \n",
    "* Sesgo - _inductive bias_  \n",
    "* Generalización  \n",
    "* _Underfitting_  \n",
    "* Sobre-entrenamiento - _Overfitting_\n",
    "* Conjuntos de entrenamiento, validación y prueba\n",
    "* Validación cruzada - _cross-validation_"
   ]
  },
  {
   "cell_type": "markdown",
   "metadata": {
    "ein.tags": [
     "worksheet-0"
    ],
    "slideshow": {
     "slide_type": "subslide"
    }
   },
   "source": [
    "# Problema mal formulado\n",
    "\n",
    "* Recordemos que se tiene $\\mathcal X$  \n",
    "* $N = |\\mathcal X|$\n",
    "* $\\mathbf x \\in \\mathbb R^d$\n",
    "* Para un problema binario  \n",
    "  hay $2^d$ posibles entradas  \n",
    "* Por lo general $N < 2^d$  \n",
    "* No es posible identificar con $N$ evaluaciones  \n",
    "  la función generadora. "
   ]
  },
  {
   "cell_type": "markdown",
   "metadata": {
    "ein.tags": [
     "worksheet-0"
    ],
    "slideshow": {
     "slide_type": "subslide"
    }
   },
   "source": [
    "# Sesgo - _Inductive Bias_  \n",
    "* ej. en Regresión\n",
    "* $\\mathcal H = \\{ \\mathbf w \\cdot \\mathbf x + b ~| \\mathbf w \\in \\mathbb R^d, b \\in \\mathbb R \\}$\n",
    "* Dado $\\mathcal X$ entonces $h$ se identifica obteniendo  \n",
    "  $\\mathbf w$ y $b$ lo cual se puede hacer con mínimos cuadrados"
   ]
  },
  {
   "cell_type": "markdown",
   "metadata": {
    "ein.tags": [
     "worksheet-0"
    ],
    "slideshow": {
     "slide_type": "subslide"
    }
   },
   "source": [
    "# Generalización\n",
    "\n",
    "* Sea $h$ tal que $\\forall_{(x, r) \\in \\mathcal X} r = h(x)$  \n",
    "  se apredió todo el conjunto de entrenamiento  \n",
    "* Sea $\\mathcal T=\\{\\mathbf x_t, r_t \\}_t^M$\n",
    "  donde $\\mathcal X \\cap \\mathcal T = \\emptyset$  \n",
    "* se quiere $E(h | \\mathcal T) \\approx 0$"
   ]
  },
  {
   "cell_type": "markdown",
   "metadata": {
    "ein.tags": [
     "worksheet-0"
    ],
    "slideshow": {
     "slide_type": "subslide"
    }
   },
   "source": [
    "# Subentrenamiento - _Underfitting_\n",
    "\n",
    "* $E(h | \\mathcal X) \\gg 0$  \n",
    "* $E(h | \\mathcal T) \\gg 0$"
   ]
  },
  {
   "cell_type": "markdown",
   "metadata": {
    "ein.tags": [
     "worksheet-0"
    ],
    "slideshow": {
     "slide_type": "fragment"
    }
   },
   "source": [
    "# Sobre-entrenamiento - _Overfitting_\n",
    "\n",
    "* $E(h | \\mathcal X) \\leq \\epsilon$  \n",
    "* $E(h | \\mathcal T) \\gg 0$"
   ]
  },
  {
   "cell_type": "markdown",
   "metadata": {
    "ein.tags": [
     "worksheet-0"
    ],
    "slideshow": {
     "slide_type": "subslide"
    }
   },
   "source": [
    "# Conjuntos de entrenamiento, validación y prueba\n",
    "\n",
    "* Entrenamiento - $\\mathcal X$\n",
    "* Validación - $\\mathcal V$\n",
    "* Prueba - $\\mathcal T$\n",
    "* $\\mathcal X \\cap \\mathcal V \\cap \\mathcal T = \\emptyset$"
   ]
  },
  {
   "cell_type": "markdown",
   "metadata": {
    "ein.tags": [
     "worksheet-0"
    ],
    "slideshow": {
     "slide_type": "fragment"
    }
   },
   "source": [
    "# Conjuntos de entrenamiento y validación  \n",
    "\n",
    "* Sea $h(\\mathbf x) = g(\\mathbf x | \\theta)$  \n",
    "* $\\mathcal X$ se usa para identificar $\\theta$  \n",
    "* $\\mathcal V$ se usa para:  \n",
    "  $\\text{argmin}_{g \\in \\mathcal H} E(g | \\mathcal V)$"
   ]
  },
  {
   "cell_type": "markdown",
   "metadata": {
    "ein.tags": [
     "worksheet-0"
    ],
    "slideshow": {
     "slide_type": "slide"
    }
   },
   "source": [
    "# Actividades\n",
    "\n",
    "1. Leer de _Introduction to Machine Learning_\n",
    "* Secciones: 2.1, 2.4, 2.5, 2.6, 2.7 y 2.8  \n",
    "2. Dar un ejemplo de un algoritmo que siempre sobre-entrene"
   ]
  }
 ],
 "metadata": {
  "kernelspec": {
   "display_name": "Python [default]",
   "name": "python3"
  },
  "language_info": {
   "codemirror_mode": {
    "name": "ipython",
    "version": 3
   },
   "file_extension": ".py",
   "mimetype": "text/x-python",
   "name": "python",
   "nbconvert_exporter": "python",
   "pygments_lexer": "ipython3",
   "version": "3.6.4"
  },
  "name": "2-Aprendizaje-Supervisado.ipynb"
 },
 "nbformat": 4,
 "nbformat_minor": 2
}
