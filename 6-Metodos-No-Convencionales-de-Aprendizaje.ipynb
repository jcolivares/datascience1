{
 "cells": [
  {
   "cell_type": "markdown",
   "metadata": {
    "ein.tags": "worksheet-0",
    "slideshow": {
     "slide_type": "slide"
    }
   },
   "source": [
    "# Aprendizaje Computacional  \n",
    "\n",
    "## Mario Graff (mgraffg@ieee.org, mario.graff@infotec.mx)  \n",
    "## [https://github.com/ingeotec](https://github.com/ingeotec)\n",
    "## [https://github.com/mgraffg](https://github.com/mgraffg)\n",
    "## CONACYT - INFOTEC  "
   ]
  },
  {
   "cell_type": "markdown",
   "metadata": {
    "ein.tags": "worksheet-0",
    "slideshow": {
     "slide_type": "slide"
    }
   },
   "source": [
    "# Temas\n",
    "\n",
    "1. Introducción\n",
    "2. Aprendizaje supervisado\n",
    "3. Métodos paramétricos\n",
    "4. Métodos no-paramétricos\n",
    "5. Máquinas de kernel\n",
    "6. Métodos no convencionales de aprendizaje\n",
    "7. Diseño y análisis de experimentos de aprendizaje\n",
    "8. Aplicaciones"
   ]
  },
  {
   "cell_type": "markdown",
   "metadata": {
    "slideshow": {
     "slide_type": "slide"
    }
   },
   "source": [
    "# Programación Genética\n",
    "\n",
    "* Algoritmo evolutivo\n",
    "* Principios de la selección natural\n",
    "* Supervivencia del mas apto\n",
    "* Algoritmo poblacional"
   ]
  },
  {
   "cell_type": "markdown",
   "metadata": {
    "slideshow": {
     "slide_type": "subslide"
    }
   },
   "source": [
    "# Pseudocódigo - Evolución estado estable"
   ]
  },
  {
   "cell_type": "markdown",
   "metadata": {},
   "source": [
    "```python    \n",
    "P = create_initial_population()\n",
    "while not stopping_criteria(P):\n",
    "    father1 = tournament_selection(P)\n",
    "    if p_mutation < random():\n",
    "        son = mutation(father1)\n",
    "    else:\n",
    "        father2 = tournament_selection(P)\n",
    "        son = crossover(father1, father2)\n",
    "    kill = negative_tournament_selection(P)\n",
    "    P[kill] = son\n",
    "```"
   ]
  },
  {
   "cell_type": "markdown",
   "metadata": {
    "slideshow": {
     "slide_type": "subslide"
    }
   },
   "source": [
    "# Busca en un espacio de programas"
   ]
  },
  {
   "cell_type": "markdown",
   "metadata": {
    "slideshow": {
     "slide_type": "-"
    }
   },
   "source": [
    "* Espacio de funciones $\\Omega$ \n",
    "* $\\Omega$ creado recursivamente por:\n",
    "* Conjunto de funciones $\\mathcal F$\n",
    "* Conjunto de terminales $\\mathcal L$"
   ]
  },
  {
   "cell_type": "markdown",
   "metadata": {
    "slideshow": {
     "slide_type": "fragment"
    }
   },
   "source": [
    "* $\\mathcal F$ compuesto por suma, multiplicación, división, entre otras\n",
    "* $\\mathcal L$ variables independientes, entradas. "
   ]
  },
  {
   "cell_type": "markdown",
   "metadata": {
    "slideshow": {
     "slide_type": "fragment"
    }
   },
   "source": [
    "* Cada función en $\\mathcal F$ está asociada con un conjunto de parámetros\n",
    "* $f \\in \\mathcal F$ tiene cardinalidad $1$ entonces $f(x \\mid \\theta) \\in \\Omega$ "
   ]
  },
  {
   "cell_type": "markdown",
   "metadata": {
    "slideshow": {
     "slide_type": "fragment"
    }
   },
   "source": [
    "* $\\theta$ se identifica utilizando $\\mathcal X$ mediante mínimos cuadrados"
   ]
  },
  {
   "cell_type": "markdown",
   "metadata": {
    "slideshow": {
     "slide_type": "subslide"
    }
   },
   "source": [
    "# Espacio de Búsqueda\n",
    "\n",
    "* $\\mathcal F_c \\subseteq \\mathcal F$\n",
    "* $\\Omega^i$ elementos creados en la iteración $i$, empezando por $i=0$\n",
    "* $\\Omega^0 = \\{ \\theta x_i \\mid x_i \\in \\mathcal L \\} \\cup \\bigcup_c \\{ f(x_1, \\cdots, x_c \\mid \\theta) \\mid x_i \\in \\mathcal{L}, f \\in \\mathcal{F}_c \\}$\n",
    "* $\\Omega^i = \\bigcup_c \\{ f(x_1, \\cdots, x_c \\mid \\theta) \\mid x_i \\in \\Omega^{i-1}, f \\in \\mathcal{F}_c \\}$"
   ]
  },
  {
   "cell_type": "markdown",
   "metadata": {
    "slideshow": {
     "slide_type": "fragment"
    }
   },
   "source": [
    "* $\\Omega = \\bigcup_i \\Omega^i$"
   ]
  },
  {
   "cell_type": "markdown",
   "metadata": {
    "slideshow": {
     "slide_type": "fragment"
    }
   },
   "source": [
    "* Funciones conmutativas\n",
    "* $f(a, b, b, d) = \\theta f(a, b, d)$"
   ]
  },
  {
   "cell_type": "markdown",
   "metadata": {
    "slideshow": {
     "slide_type": "slide"
    }
   },
   "source": [
    "# EvoDAG\n",
    "\n",
    "* Muestrea $\\Omega^i$ mediante una población $\\mathcal P$\n",
    "* $P^0$ contiene $\\{\\theta x \\mid x \\in \\mathcal L\\}$\n",
    "* $P^0$ además contiene funciones especiales como:   \n",
    "   Nearest Centroid Classifier, Bayes Ingenuo, entre otras\n",
    "* $P^0$ se completa seleccionado $f \\in \\mathcal F$ y sus argumentos de $\\mathcal L$ sin reemplazo\n",
    "* Si $\\mathcal L$ está vacío y $P^0$ no tiene el número de elementos deseados\n",
    "* Se selecciona $f \\in \\mathcal F$ y sus argumentos de $P^0$"
   ]
  },
  {
   "cell_type": "markdown",
   "metadata": {
    "slideshow": {
     "slide_type": "subslide"
    }
   },
   "source": [
    "# Ejemplo\n",
    "\n",
    "* $\\mathcal F = \\{+, \\sin \\}$\n",
    "* $\\mathcal L =\\{x_1, x_2, x_3\\}$\n",
    "* $\\mathcal P^0$ empieza con $\\{\\theta_1 x_1, \\theta_2 x_3, \\theta_3 x_2\\}$\n",
    "* $+$ $\\rightarrow$ $P^0 = \\{\\theta_1 x_1, \\theta_2 x_3, \\theta_3 x_2, \\theta_4 x_1 + \\theta_5 x_2\\}$\n",
    "* $\\sin$ $\\rightarrow$ $P^0=\\{\\theta_1 x_1, \\theta_2 x_3, \\theta_3 x_2, \\theta_4 x_1 + \\theta_5 x_3, \\theta_6 \\sin{(x_2)}\\}$"
   ]
  },
  {
   "cell_type": "markdown",
   "metadata": {
    "slideshow": {
     "slide_type": "fragment"
    }
   },
   "source": [
    "* $\\sin$ argumento $\\theta_4 x_1 + \\theta_5 x_3$ $\\rightarrow$ $P^0=\\{\\theta_1 x_1, \\theta_2 x_3, \\theta_3 x_2, \\theta_4 x_1 + \\theta_5 x_3, \\theta_6 \\sin{(x_2)}, \\theta_7 \\sin{(\\theta_4 x_1 + \\theta_5 x_3)}\\}$"
   ]
  },
  {
   "cell_type": "markdown",
   "metadata": {
    "slideshow": {
     "slide_type": "subslide"
    }
   },
   "source": [
    "# EvoDAG - Evolución\n",
    "\n",
    "* Una vez creado $P^0$ \n",
    "* $P = P^0$\n",
    "* Se genera un hijo $s$ seleccionando $f \\in \\mathcal F$ y sus argumentos se toman de $P$\n",
    "* Se selecciona $j \\in P$ utilizando un torneo negativo\n",
    "* $j$ es reemplazado por $s$"
   ]
  },
  {
   "cell_type": "markdown",
   "metadata": {
    "slideshow": {
     "slide_type": "fragment"
    }
   },
   "source": [
    "* $P=\\{\\theta_1 x_1, \\theta_2 x_3, \\theta_3 x_2, \\theta_4 x_1 + \\theta_5 x_3, \\theta_6 \\sin{(x_2)}, \\theta_7 \\sin{(\\theta_4 x_1 + \\theta_5 x_3)}\\}$\n",
    "* $+$\n",
    "* $\\theta_3 x_2 + \\theta_6 \\sin{(x_2)}$\n",
    "* $P=\\{\\theta_3 x_2 + \\theta_6 \\sin{(x_2)}, \\theta_2 x_3, \\theta_3 x_2, \\theta_4 x_1 + \\theta_5 x_3, \\theta_6 \\sin{(x_2)}, \\theta_7 \\sin{(\\theta_4 x_1 + \\theta_5 x_3)}\\}$"
   ]
  },
  {
   "cell_type": "markdown",
   "metadata": {
    "slideshow": {
     "slide_type": "subslide"
    }
   },
   "source": [
    "# Criterio de Paro\n",
    "\n",
    "* Se usa la técnica de _early stopping_\n",
    "* $\\mathcal X$ se divide en $\\mathcal X$ y $\\mathcal V$\n",
    "* $\\mathcal X$ se usa para guiar la búsqueda\n",
    "* $\\mathcal V$ mide la generalización del modelo\n",
    "* El modelo final es el que mejor rendimiento tiene en $\\mathcal V$\n",
    "* Detienen cuando en $k$ evaluaciones no se obtiene un mejor rendimiento en $\\mathcal V$"
   ]
  },
  {
   "cell_type": "markdown",
   "metadata": {
    "slideshow": {
     "slide_type": "subslide"
    }
   },
   "source": [
    "# Selección por torneo\n",
    "\n",
    "* Seleccionan $k$ individuos\n",
    "* Se escoge al que mejor rendimiento tenga"
   ]
  },
  {
   "cell_type": "markdown",
   "metadata": {
    "slideshow": {
     "slide_type": "fragment"
    }
   },
   "source": [
    "```python  \n",
    "shuffle(P)\n",
    "p = P[:k]\n",
    "fit = [(x, fitness(x)) for x in p]\n",
    "fit.sort(key=lambda x: x[0])\n",
    "winner = fit[-1]```"
   ]
  },
  {
   "cell_type": "markdown",
   "metadata": {
    "slideshow": {
     "slide_type": "fragment"
    }
   },
   "source": [
    "* Torneo negativo\n"
   ]
  },
  {
   "cell_type": "markdown",
   "metadata": {
    "slideshow": {
     "slide_type": "fragment"
    }
   },
   "source": [
    "```python  \n",
    "loser = fit[0]```"
   ]
  },
  {
   "cell_type": "markdown",
   "metadata": {
    "slideshow": {
     "slide_type": "subslide"
    }
   },
   "source": [
    "# EvoDAG - pseudocódigo\n",
    "\n",
    "```python    \n",
    "P = create_initial_population()\n",
    "while not stopping_criteria(P):\n",
    "    func = select_function()\n",
    "    args = [tournament_selection(P) for _ in nargs(func)]\n",
    "    son = func(*args)\n",
    "    kill = negative_tournament_selection(P)\n",
    "    P[kill] = son\n",
    "```"
   ]
  },
  {
   "cell_type": "markdown",
   "metadata": {
    "slideshow": {
     "slide_type": "slide"
    }
   },
   "source": [
    "# EvoDAG Model\n",
    "![EvoDAG.png](EvoDAG.png)"
   ]
  },
  {
   "cell_type": "code",
   "execution_count": 1,
   "metadata": {
    "collapsed": false,
    "slideshow": {
     "slide_type": "skip"
    }
   },
   "outputs": [
    {
     "name": "stdout",
     "output_type": "stream",
     "text": [
      "Populating the interactive namespace from numpy and matplotlib\n"
     ]
    }
   ],
   "source": [
    "%pylab inline\n",
    "from sklearn.datasets import make_blobs\n",
    "import numpy as np\n",
    "def boundary(x, y, m):\n",
    "    px = []\n",
    "    py = []\n",
    "    for y0 in y:\n",
    "        pr = m.predict(np.vstack((x, [y0] * x.shape[0])).T)\n",
    "        df = np.fabs(pr[1:] - pr[:-1])\n",
    "        step = np.where(df > 0)[0]\n",
    "        if len(step):\n",
    "            for x0 in step:\n",
    "                py.append(y0)\n",
    "                px.append(x[x0])\n",
    "    return px, py"
   ]
  },
  {
   "cell_type": "markdown",
   "metadata": {
    "slideshow": {
     "slide_type": "subslide"
    }
   },
   "source": [
    "# Problema binario"
   ]
  },
  {
   "cell_type": "code",
   "execution_count": 5,
   "metadata": {
    "collapsed": false
   },
   "outputs": [
    {
     "data": {
      "image/png": "[encoded data removed]",
      "text/plain": [
       "<matplotlib.figure.Figure at 0x115a499e8>"
      ]
     },
     "metadata": {},
     "output_type": "display_data"
    }
   ],
   "source": [
    "centers = [(-5, -5), (0, 0)]\n",
    "X, y = make_blobs(n_samples=200, n_features=2, cluster_std=1.0,\n",
    "                  centers=centers, shuffle=False, random_state=42)\n",
    "for k in np.unique(y):\n",
    "    pylab.plot(X[y == k, 0], X[y == k, 1], '.')"
   ]
  },
  {
   "cell_type": "markdown",
   "metadata": {
    "slideshow": {
     "slide_type": "subslide"
    }
   },
   "source": [
    "# EvoDAG - Función de Decisión"
   ]
  },
  {
   "cell_type": "code",
   "execution_count": 8,
   "metadata": {},
   "outputs": [
    {
     "name": "stderr",
     "output_type": "stream",
     "text": [
      "100%|██████████| 30/30 [00:01<00:00, 27.06it/s]\n"
     ]
    },
    {
     "data": {
      "image/png": "[encoded data removed]",
      "text/plain": [
       "<matplotlib.figure.Figure at 0x11b5500f0>"
      ]
     },
     "metadata": {},
     "output_type": "display_data"
    }
   ],
   "source": [
    "from sklearn.svm import LinearSVC\n",
    "from EvoDAG.model import EvoDAGE\n",
    "import numpy as np\n",
    "for k in np.unique(y):\n",
    "    pylab.plot(X[y == k, 0], X[y == k, 1], '.')\n",
    "m = EvoDAGE().fit(X, y)\n",
    "px, py = boundary(np.linspace(-8, 4, 100), np.linspace(-8, 4, 100), m)\n",
    "_ = pylab.plot(px, py, '.')"
   ]
  },
  {
   "cell_type": "markdown",
   "metadata": {
    "slideshow": {
     "slide_type": "subslide"
    }
   },
   "source": [
    "# Problema"
   ]
  },
  {
   "cell_type": "code",
   "execution_count": 14,
   "metadata": {
    "collapsed": false,
    "slideshow": {
     "slide_type": "-"
    }
   },
   "outputs": [
    {
     "data": {
      "image/png": "[encoded data removed]",
      "text/plain": [
       "<matplotlib.figure.Figure at 0x11b458b70>"
      ]
     },
     "metadata": {},
     "output_type": "display_data"
    }
   ],
   "source": [
    "centers = [(-5, -3), (0, 0), (5, 5), (10, 3)]\n",
    "X, y = make_blobs(n_samples=400, n_features=2, cluster_std=1.0,\n",
    "                  centers=centers, shuffle=False, random_state=42)\n",
    "y[100:200] = 3\n",
    "for k in np.unique(y):\n",
    "    pylab.plot(X[y == k, 0], X[y == k, 1], '.')"
   ]
  },
  {
   "cell_type": "markdown",
   "metadata": {
    "slideshow": {
     "slide_type": "subslide"
    }
   },
   "source": [
    "# EvoDAG - Función de Decisión"
   ]
  },
  {
   "cell_type": "code",
   "execution_count": 16,
   "metadata": {},
   "outputs": [
    {
     "name": "stderr",
     "output_type": "stream",
     "text": [
      "100%|██████████| 30/30 [00:14<00:00,  1.27it/s]\n"
     ]
    },
    {
     "data": {
      "image/png": "[encoded data removed]",
      "text/plain": [
       "<matplotlib.figure.Figure at 0x11b504e48>"
      ]
     },
     "metadata": {},
     "output_type": "display_data"
    }
   ],
   "source": [
    "from sklearn.svm import LinearSVC\n",
    "from EvoDAG.model import EvoDAGE\n",
    "import numpy as np\n",
    "for k in np.unique(y):\n",
    "    pylab.plot(X[y == k, 0], X[y == k, 1], '.')\n",
    "m = EvoDAGE().fit(X, y)\n",
    "px, py = boundary(np.linspace(-10, 15, 100), np.linspace(-10, 15, 100), m)\n",
    "_ = pylab.plot(px, py, '.')"
   ]
  },
  {
   "cell_type": "markdown",
   "metadata": {
    "slideshow": {
     "slide_type": "subslide"
    }
   },
   "source": [
    "# EvoDAG - Model"
   ]
  },
  {
   "cell_type": "code",
   "execution_count": 31,
   "metadata": {
    "slideshow": {
     "slide_type": "skip"
    }
   },
   "outputs": [],
   "source": [
    "import graphviz\n",
    "model = m.models[2]\n",
    "model.graphviz('model0.gv')"
   ]
  },
  {
   "cell_type": "code",
   "execution_count": 42,
   "metadata": {},
   "outputs": [
    {
     "data": {
      "image/svg+xml": [
       "<?xml version=\"1.0\" encoding=\"UTF-8\" standalone=\"no\"?>\n",
       "<!DOCTYPE svg PUBLIC \"-//W3C//DTD SVG 1.1//EN\"\n",
       " \"http://www.w3.org/Graphics/SVG/1.1/DTD/svg11.dtd\">\n",
       "<!-- Generated by graphviz version 2.40.1 (20161225.0304)\n",
       " -->\n",
       "<!-- Title: EvoDAG Pages: 1 -->\n",
       "<svg width=\"447pt\" height=\"332pt\"\n",
       " viewBox=\"0.00 0.00 447.48 332.00\" xmlns=\"http://www.w3.org/2000/svg\" xmlns:xlink=\"http://www.w3.org/1999/xlink\">\n",
       "<g id=\"graph0\" class=\"graph\" transform=\"scale(1 1) rotate(0) translate(4 328)\">\n",
       "<title>EvoDAG</title>\n",
       "<polygon fill=\"#ffffff\" stroke=\"transparent\" points=\"-4,4 -4,-328 443.4848,-328 443.4848,4 -4,4\"/>\n",
       "<!-- n0 -->\n",
       "<g id=\"node1\" class=\"node\">\n",
       "<title>n0</title>\n",
       "<ellipse fill=\"#9ecae1\" stroke=\"#9ecae1\" cx=\"186.4848\" cy=\"-18\" rx=\"57.8829\" ry=\"18\"/>\n",
       "<text text-anchor=\"middle\" x=\"186.4848\" y=\"-13.8\" font-family=\"Times,serif\" font-size=\"14.00\" fill=\"#000000\">NaiveBayes</text>\n",
       "</g>\n",
       "<!-- n0&#45;&gt;n0 -->\n",
       "<g id=\"edge1\" class=\"edge\">\n",
       "<title>n0&#45;&gt;n0</title>\n",
       "<path fill=\"none\" stroke=\"#000000\" d=\"M226.2052,-31.1704C245.3105,-32.7964 262.176,-28.4063 262.176,-18 262.176,-9.4636 250.827,-4.9756 236.2023,-4.5358\"/>\n",
       "<polygon fill=\"#000000\" stroke=\"#000000\" points=\"236.098,-1.0373 226.2052,-4.8296 236.3037,-8.0343 236.098,-1.0373\"/>\n",
       "</g>\n",
       "<!-- n1 -->\n",
       "<g id=\"node2\" class=\"node\">\n",
       "<title>n1</title>\n",
       "<ellipse fill=\"#9ecae1\" stroke=\"#9ecae1\" cx=\"304.4848\" cy=\"-90\" rx=\"44.6626\" ry=\"18\"/>\n",
       "<text text-anchor=\"middle\" x=\"304.4848\" y=\"-85.8\" font-family=\"Times,serif\" font-size=\"14.00\" fill=\"#000000\">Centroid</text>\n",
       "</g>\n",
       "<!-- n1&#45;&gt;n0 -->\n",
       "<g id=\"edge2\" class=\"edge\">\n",
       "<title>n1&#45;&gt;n0</title>\n",
       "<path fill=\"none\" stroke=\"#000000\" d=\"M279.7482,-74.9064C262.8292,-64.583 240.1576,-50.7495 221.4042,-39.3067\"/>\n",
       "<polygon fill=\"#000000\" stroke=\"#000000\" points=\"223.1869,-36.2944 212.8275,-34.0735 219.5408,-42.2699 223.1869,-36.2944\"/>\n",
       "</g>\n",
       "<!-- n1&#45;&gt;n1 -->\n",
       "<g id=\"edge3\" class=\"edge\">\n",
       "<title>n1&#45;&gt;n1</title>\n",
       "<path fill=\"none\" stroke=\"#000000\" d=\"M335.8433,-102.985C352.3539,-105.0862 367.3158,-100.7578 367.3158,-90 367.3158,-81.5114 358.0003,-77.0259 345.9588,-76.5436\"/>\n",
       "<polygon fill=\"#000000\" stroke=\"#000000\" points=\"345.6695,-73.0532 335.8433,-77.015 345.9954,-80.0456 345.6695,-73.0532\"/>\n",
       "</g>\n",
       "<!-- n2 -->\n",
       "<g id=\"node3\" class=\"node\">\n",
       "<title>n2</title>\n",
       "<ellipse fill=\"#ff0000\" stroke=\"#000000\" cx=\"86.4848\" cy=\"-90\" rx=\"27\" ry=\"18\"/>\n",
       "<text text-anchor=\"middle\" x=\"86.4848\" y=\"-85.8\" font-family=\"Times,serif\" font-size=\"14.00\" fill=\"#000000\">X1</text>\n",
       "</g>\n",
       "<!-- n3 -->\n",
       "<g id=\"node4\" class=\"node\">\n",
       "<title>n3</title>\n",
       "<ellipse fill=\"#ff0000\" stroke=\"#000000\" cx=\"412.4848\" cy=\"-90\" rx=\"27\" ry=\"18\"/>\n",
       "<text text-anchor=\"middle\" x=\"412.4848\" y=\"-85.8\" font-family=\"Times,serif\" font-size=\"14.00\" fill=\"#000000\">X0</text>\n",
       "</g>\n",
       "<!-- n4 -->\n",
       "<g id=\"node5\" class=\"node\">\n",
       "<title>n4</title>\n",
       "<ellipse fill=\"#f7fbff\" stroke=\"#f7fbff\" cx=\"186.4848\" cy=\"-162\" rx=\"27.2661\" ry=\"18\"/>\n",
       "<text text-anchor=\"middle\" x=\"186.4848\" y=\"-157.8\" font-family=\"Times,serif\" font-size=\"14.00\" fill=\"#000000\">Mul</text>\n",
       "</g>\n",
       "<!-- n4&#45;&gt;n0 -->\n",
       "<g id=\"edge4\" class=\"edge\">\n",
       "<title>n4&#45;&gt;n0</title>\n",
       "<path fill=\"none\" stroke=\"#000000\" d=\"M166.5858,-149.7226C150.7485,-126.4012 148.4926,-75.2381 159.8179,-43.9848\"/>\n",
       "<polygon fill=\"#000000\" stroke=\"#000000\" points=\"163.1258,-45.1587 163.9722,-34.5977 156.7246,-42.3258 163.1258,-45.1587\"/>\n",
       "</g>\n",
       "<!-- n4&#45;&gt;n0 -->\n",
       "<g id=\"edge5\" class=\"edge\">\n",
       "<title>n4&#45;&gt;n0</title>\n",
       "<path fill=\"none\" stroke=\"#000000\" d=\"M173.1871,-146.0393C165.0775,-121.8029 164.0626,-75.3958 170.1423,-45.6099\"/>\n",
       "<polygon fill=\"#000000\" stroke=\"#000000\" points=\"173.557,-46.3815 172.5886,-35.831 166.7663,-44.6827 173.557,-46.3815\"/>\n",
       "</g>\n",
       "<!-- n4&#45;&gt;n0 -->\n",
       "<g id=\"edge6\" class=\"edge\">\n",
       "<title>n4&#45;&gt;n0</title>\n",
       "<path fill=\"none\" stroke=\"#000000\" d=\"M181.841,-144.0535C179.3576,-119.5852 179.0703,-75.4896 180.9791,-46.4799\"/>\n",
       "<polygon fill=\"#000000\" stroke=\"#000000\" points=\"184.4952,-46.4238 181.8182,-36.1727 177.5182,-45.8557 184.4952,-46.4238\"/>\n",
       "</g>\n",
       "<!-- n4&#45;&gt;n0 -->\n",
       "<g id=\"edge7\" class=\"edge\">\n",
       "<title>n4&#45;&gt;n0</title>\n",
       "<path fill=\"none\" stroke=\"#000000\" d=\"M191.1286,-144.0535C193.612,-119.5852 193.8993,-75.4896 191.9905,-46.4799\"/>\n",
       "<polygon fill=\"#000000\" stroke=\"#000000\" points=\"195.4514,-45.8557 191.1515,-36.1727 188.4745,-46.4238 195.4514,-45.8557\"/>\n",
       "</g>\n",
       "<!-- n4&#45;&gt;n0 -->\n",
       "<g id=\"edge8\" class=\"edge\">\n",
       "<title>n4&#45;&gt;n0</title>\n",
       "<path fill=\"none\" stroke=\"#000000\" d=\"M199.7825,-146.0393C207.8921,-121.8029 208.9071,-75.3958 202.8274,-45.6099\"/>\n",
       "<polygon fill=\"#000000\" stroke=\"#000000\" points=\"206.2033,-44.6827 200.381,-35.831 199.4126,-46.3815 206.2033,-44.6827\"/>\n",
       "</g>\n",
       "<!-- n4&#45;&gt;n0 -->\n",
       "<g id=\"edge9\" class=\"edge\">\n",
       "<title>n4&#45;&gt;n0</title>\n",
       "<path fill=\"none\" stroke=\"#000000\" d=\"M206.3838,-149.7226C222.2211,-126.4012 224.4771,-75.2381 213.1517,-43.9848\"/>\n",
       "<polygon fill=\"#000000\" stroke=\"#000000\" points=\"216.245,-42.3258 208.9974,-34.5977 209.8439,-45.1587 216.245,-42.3258\"/>\n",
       "</g>\n",
       "<!-- n4&#45;&gt;n1 -->\n",
       "<g id=\"edge10\" class=\"edge\">\n",
       "<title>n4&#45;&gt;n1</title>\n",
       "<path fill=\"none\" stroke=\"#000000\" d=\"M186.4992,-143.8314C201.1335,-131.1239 229.4771,-114.4508 256.3941,-103.0478\"/>\n",
       "<polygon fill=\"#000000\" stroke=\"#000000\" points=\"257.8609,-106.2303 265.8306,-99.2493 255.2469,-99.7366 257.8609,-106.2303\"/>\n",
       "</g>\n",
       "<!-- n4&#45;&gt;n1 -->\n",
       "<g id=\"edge11\" class=\"edge\">\n",
       "<title>n4&#45;&gt;n1</title>\n",
       "<path fill=\"none\" stroke=\"#000000\" d=\"M196.9294,-144.937C212.3745,-133.2413 237.7365,-117.8177 260.519,-106.291\"/>\n",
       "<polygon fill=\"#000000\" stroke=\"#000000\" points=\"262.314,-109.3092 269.7563,-101.7685 259.2359,-103.0223 262.314,-109.3092\"/>\n",
       "</g>\n",
       "<!-- n4&#45;&gt;n1 -->\n",
       "<g id=\"edge12\" class=\"edge\">\n",
       "<title>n4&#45;&gt;n1</title>\n",
       "<path fill=\"none\" stroke=\"#000000\" d=\"M203.7784,-148.1177C220.4451,-137.0333 245.9022,-121.3816 267.1196,-109.113\"/>\n",
       "<polygon fill=\"#000000\" stroke=\"#000000\" points=\"268.9703,-112.0866 275.9152,-104.0854 265.4965,-106.0094 268.9703,-112.0866\"/>\n",
       "</g>\n",
       "<!-- n4&#45;&gt;n1 -->\n",
       "<g id=\"edge13\" class=\"edge\">\n",
       "<title>n4&#45;&gt;n1</title>\n",
       "<path fill=\"none\" stroke=\"#000000\" d=\"M208.5711,-151.5306C227.5435,-141.0878 254.7727,-124.74 275.4567,-111.519\"/>\n",
       "<polygon fill=\"#000000\" stroke=\"#000000\" points=\"277.3828,-114.4416 283.8773,-106.0707 273.5801,-108.5645 277.3828,-114.4416\"/>\n",
       "</g>\n",
       "<!-- n4&#45;&gt;n1 -->\n",
       "<g id=\"edge14\" class=\"edge\">\n",
       "<title>n4&#45;&gt;n1</title>\n",
       "<path fill=\"none\" stroke=\"#000000\" d=\"M211.5904,-154.5659C234.1584,-144.9458 264.4398,-127.7301 285.1032,-113.494\"/>\n",
       "<polygon fill=\"#000000\" stroke=\"#000000\" points=\"287.23,-116.2759 293.3196,-107.606 283.1525,-110.586 287.23,-116.2759\"/>\n",
       "</g>\n",
       "<!-- n4&#45;&gt;n1 -->\n",
       "<g id=\"edge15\" class=\"edge\">\n",
       "<title>n4&#45;&gt;n1</title>\n",
       "<path fill=\"none\" stroke=\"#000000\" d=\"M212.7538,-157.0511C240.6653,-148.3776 275.6362,-129.8906 296.4738,-114.5212\"/>\n",
       "<polygon fill=\"#000000\" stroke=\"#000000\" points=\"298.8245,-117.1238 304.4771,-108.1628 294.4701,-111.6429 298.8245,-117.1238\"/>\n",
       "</g>\n",
       "<!-- n4&#45;&gt;n2 -->\n",
       "<g id=\"edge16\" class=\"edge\">\n",
       "<title>n4&#45;&gt;n2</title>\n",
       "<path fill=\"none\" stroke=\"#000000\" d=\"M161.1132,-155.4835C138.9994,-146.3805 112.1801,-129.354 95.295,-114.9446\"/>\n",
       "<polygon fill=\"#000000\" stroke=\"#000000\" points=\"97.6019,-112.3111 87.8681,-108.1272 92.8683,-117.468 97.6019,-112.3111\"/>\n",
       "</g>\n",
       "<!-- n4&#45;&gt;n2 -->\n",
       "<g id=\"edge17\" class=\"edge\">\n",
       "<title>n4&#45;&gt;n2</title>\n",
       "<path fill=\"none\" stroke=\"#000000\" d=\"M163.4213,-152.2898C145.7292,-142.2876 122.5295,-126.332 105.837,-113.0738\"/>\n",
       "<polygon fill=\"#000000\" stroke=\"#000000\" points=\"107.7107,-110.083 97.7647,-106.4322 103.2632,-115.4886 107.7107,-110.083\"/>\n",
       "</g>\n",
       "<!-- n4&#45;&gt;n2 -->\n",
       "<g id=\"edge18\" class=\"edge\">\n",
       "<title>n4&#45;&gt;n2</title>\n",
       "<path fill=\"none\" stroke=\"#000000\" d=\"M167.6756,-148.4574C152.3546,-137.4263 130.5283,-121.7113 113.3637,-109.3528\"/>\n",
       "<polygon fill=\"#000000\" stroke=\"#000000\" points=\"115.0323,-106.2414 104.8719,-103.2387 110.9421,-111.9221 115.0323,-106.2414\"/>\n",
       "</g>\n",
       "<!-- n4&#45;&gt;n2 -->\n",
       "<g id=\"edge19\" class=\"edge\">\n",
       "<title>n4&#45;&gt;n2</title>\n",
       "<path fill=\"none\" stroke=\"#000000\" d=\"M174.893,-145.3008C160.6183,-133.1075 137.7225,-116.7203 118.4499,-104.9548\"/>\n",
       "<polygon fill=\"#000000\" stroke=\"#000000\" points=\"120.0068,-101.8097 109.6145,-99.7477 116.4526,-107.8404 120.0068,-101.8097\"/>\n",
       "</g>\n",
       "<!-- n4&#45;&gt;n2 -->\n",
       "<g id=\"edge20\" class=\"edge\">\n",
       "<title>n4&#45;&gt;n2</title>\n",
       "<path fill=\"none\" stroke=\"#000000\" d=\"M185.0602,-143.8314C171.4652,-130.2238 144.9403,-112.069 121.2361,-100.7073\"/>\n",
       "<polygon fill=\"#000000\" stroke=\"#000000\" points=\"122.5399,-97.4564 111.9823,-96.5684 119.6818,-103.8463 122.5399,-97.4564\"/>\n",
       "</g>\n",
       "<!-- n4&#45;&gt;n3 -->\n",
       "<g id=\"edge21\" class=\"edge\">\n",
       "<title>n4&#45;&gt;n3</title>\n",
       "<path fill=\"none\" stroke=\"#000000\" d=\"M210.4551,-153.5504C244.7513,-144.2874 306.8559,-128.0415 358.4848,-108 364.4371,-105.6894 370.7267,-102.7351 377.173,-99.8909\"/>\n",
       "<polygon fill=\"#000000\" stroke=\"#000000\" points=\"378.8414,-102.9866 386.7087,-95.8904 376.1333,-96.5316 378.8414,-102.9866\"/>\n",
       "</g>\n",
       "<!-- n4&#45;&gt;n3 -->\n",
       "<g id=\"edge22\" class=\"edge\">\n",
       "<title>n4&#45;&gt;n3</title>\n",
       "<path fill=\"none\" stroke=\"#000000\" d=\"M212.4918,-156.2398C249.5606,-147.6655 319.4213,-130.1511 376.4848,-108 378.3413,-107.2793 380.2307,-106.496 382.1225,-105.673\"/>\n",
       "<polygon fill=\"#000000\" stroke=\"#000000\" points=\"383.8688,-108.721 391.4622,-101.3323 380.9186,-102.373 383.8688,-108.721\"/>\n",
       "</g>\n",
       "<!-- n4&#45;&gt;n3 -->\n",
       "<g id=\"edge23\" class=\"edge\">\n",
       "<title>n4&#45;&gt;n3</title>\n",
       "<path fill=\"none\" stroke=\"#000000\" d=\"M213.1336,-158.385C252.5951,-151.2164 324.9501,-133.9241 390.0573,-109.5377\"/>\n",
       "<polygon fill=\"#000000\" stroke=\"#000000\" points=\"391.5142,-112.7279 399.6059,-105.8886 389.0153,-106.1891 391.5142,-112.7279\"/>\n",
       "</g>\n",
       "<!-- n5 -->\n",
       "<g id=\"node6\" class=\"node\">\n",
       "<title>n5</title>\n",
       "<ellipse fill=\"#4292c6\" stroke=\"#4292c6\" cx=\"58.4848\" cy=\"-234\" rx=\"44.6626\" ry=\"18\"/>\n",
       "<text text-anchor=\"middle\" x=\"58.4848\" y=\"-229.8\" font-family=\"Times,serif\" font-size=\"14.00\" fill=\"#000000\">Centroid</text>\n",
       "</g>\n",
       "<!-- n5&#45;&gt;n0 -->\n",
       "<g id=\"edge24\" class=\"edge\">\n",
       "<title>n5&#45;&gt;n0</title>\n",
       "<path fill=\"none\" stroke=\"#000000\" d=\"M51.1715,-216.0757C39.3964,-184.0609 20.4335,-116.2657 50.4848,-72 66.8786,-47.8519 95.9499,-34.5024 123.0176,-27.1226\"/>\n",
       "<polygon fill=\"#000000\" stroke=\"#000000\" points=\"124.0163,-30.4808 132.8721,-24.6649 122.3223,-23.6889 124.0163,-30.4808\"/>\n",
       "</g>\n",
       "<!-- n5&#45;&gt;n4 -->\n",
       "<g id=\"edge25\" class=\"edge\">\n",
       "<title>n5&#45;&gt;n4</title>\n",
       "<path fill=\"none\" stroke=\"#000000\" d=\"M84.6964,-219.256C105.5598,-207.5203 134.7704,-191.0894 156.5514,-178.8376\"/>\n",
       "<polygon fill=\"#000000\" stroke=\"#000000\" points=\"158.3854,-181.8217 165.3852,-173.8685 154.9535,-175.7207 158.3854,-181.8217\"/>\n",
       "</g>\n",
       "<!-- n6 -->\n",
       "<g id=\"node7\" class=\"node\">\n",
       "<title>n6</title>\n",
       "<ellipse fill=\"#00ff00\" stroke=\"#000000\" cx=\"131.4848\" cy=\"-306\" rx=\"57.8829\" ry=\"18\"/>\n",
       "<text text-anchor=\"middle\" x=\"131.4848\" y=\"-301.8\" font-family=\"Times,serif\" font-size=\"14.00\" fill=\"#000000\">NaiveBayes</text>\n",
       "</g>\n",
       "<!-- n6&#45;&gt;n0 -->\n",
       "<g id=\"edge26\" class=\"edge\">\n",
       "<title>n6&#45;&gt;n0</title>\n",
       "<path fill=\"none\" stroke=\"#000000\" d=\"M79.7046,-297.9313C52.4114,-290.7603 21.2052,-277.2786 4.4848,-252 -4.3421,-238.6551 2.8976,-231.9211 4.4848,-216 10.9612,-151.0371 -9.3229,-121.2912 33.4848,-72 46.625,-56.8697 92.4225,-41.8769 130.5162,-31.5427\"/>\n",
       "<polygon fill=\"#000000\" stroke=\"#000000\" points=\"131.7487,-34.8367 140.5152,-28.887 129.9518,-28.0713 131.7487,-34.8367\"/>\n",
       "</g>\n",
       "<!-- n6&#45;&gt;n1 -->\n",
       "<g id=\"edge27\" class=\"edge\">\n",
       "<title>n6&#45;&gt;n1</title>\n",
       "<path fill=\"none\" stroke=\"#000000\" d=\"M145.6421,-288.3238C176.2702,-250.0829 248.775,-159.5567 284.2408,-115.2757\"/>\n",
       "<polygon fill=\"#000000\" stroke=\"#000000\" points=\"287.0958,-117.3099 290.6154,-107.3167 281.6322,-112.9339 287.0958,-117.3099\"/>\n",
       "</g>\n",
       "<!-- n6&#45;&gt;n2 -->\n",
       "<g id=\"edge28\" class=\"edge\">\n",
       "<title>n6&#45;&gt;n2</title>\n",
       "<path fill=\"none\" stroke=\"#000000\" d=\"M127.7255,-287.9555C119.8641,-250.2205 101.6415,-162.7518 92.274,-117.7882\"/>\n",
       "<polygon fill=\"#000000\" stroke=\"#000000\" points=\"95.6678,-116.9172 90.2017,-107.8413 88.8149,-118.3449 95.6678,-116.9172\"/>\n",
       "</g>\n",
       "<!-- n6&#45;&gt;n3 -->\n",
       "<g id=\"edge29\" class=\"edge\">\n",
       "<title>n6&#45;&gt;n3</title>\n",
       "<path fill=\"none\" stroke=\"#000000\" d=\"M153.5817,-289.2553C167.6084,-278.6108 186.1335,-264.5248 202.4848,-252 268.9239,-201.1089 346.8765,-140.822 386.5044,-110.1334\"/>\n",
       "<polygon fill=\"#000000\" stroke=\"#000000\" points=\"389.0538,-112.5859 394.8163,-103.6952 384.7672,-107.0518 389.0538,-112.5859\"/>\n",
       "</g>\n",
       "<!-- n6&#45;&gt;n5 -->\n",
       "<g id=\"edge30\" class=\"edge\">\n",
       "<title>n6&#45;&gt;n5</title>\n",
       "<path fill=\"none\" stroke=\"#000000\" d=\"M113.8136,-288.5708C104.533,-279.4174 93.016,-268.0582 82.8965,-258.0773\"/>\n",
       "<polygon fill=\"#000000\" stroke=\"#000000\" points=\"85.0681,-255.3032 75.4907,-250.7729 80.1526,-260.287 85.0681,-255.3032\"/>\n",
       "</g>\n",
       "</g>\n",
       "</svg>\n"
      ],
      "text/plain": [
       "<graphviz.files.Source at 0x110489f60>"
      ]
     },
     "execution_count": 42,
     "metadata": {},
     "output_type": "execute_result"
    }
   ],
   "source": [
    "data = open('model0.gv').read()\n",
    "graph = graphviz.Source(data)\n",
    "graph"
   ]
  },
  {
   "cell_type": "markdown",
   "metadata": {
    "slideshow": {
     "slide_type": "subslide"
    }
   },
   "source": [
    "# Model - Función de Decisión"
   ]
  },
  {
   "cell_type": "code",
   "execution_count": 38,
   "metadata": {},
   "outputs": [
    {
     "name": "stderr",
     "output_type": "stream",
     "text": [
      "100%|██████████| 30/30 [00:15<00:00,  1.29it/s]\n"
     ]
    },
    {
     "data": {
      "image/png": "[encoded data removed]",
      "text/plain": [
       "<matplotlib.figure.Figure at 0x11b4f9dd8>"
      ]
     },
     "metadata": {},
     "output_type": "display_data"
    }
   ],
   "source": [
    "for k in np.unique(y):\n",
    "    pylab.plot(X[y == k, 0], X[y == k, 1], '.')\n",
    "px, py = boundary(np.linspace(-10, 15, 100), np.linspace(-10, 15, 100), model)\n",
    "_ = pylab.plot(px, py, '.')"
   ]
  },
  {
   "cell_type": "code",
   "execution_count": 40,
   "metadata": {
    "slideshow": {
     "slide_type": "subslide"
    }
   },
   "outputs": [
    {
     "data": {
      "image/png": "[encoded data removed]",
      "text/plain": [
       "<matplotlib.figure.Figure at 0x1a1fb9d4e0>"
      ]
     },
     "metadata": {},
     "output_type": "display_data"
    }
   ],
   "source": [
    "for k in np.unique(y):\n",
    "    pylab.plot(X[y == k, 0], X[y == k, 1], '.')\n",
    "px, py = boundary(np.linspace(-10, 15, 100), np.linspace(-10, 15, 100), model)\n",
    "_ = pylab.plot(px, py, '.')\n",
    "px, py = boundary(np.linspace(-10, 15, 100), np.linspace(-10, 15, 100), m.models[0])\n",
    "_ = pylab.plot(px, py, '.')"
   ]
  },
  {
   "cell_type": "code",
   "execution_count": null,
   "metadata": {},
   "outputs": [],
   "source": []
  }
 ],
 "metadata": {
  "kernelspec": {
   "display_name": "Python 3",
   "language": "python",
   "name": "python3"
  },
  "language_info": {
   "codemirror_mode": {
    "name": "ipython",
    "version": 3
   },
   "file_extension": ".py",
   "mimetype": "text/x-python",
   "name": "python",
   "nbconvert_exporter": "python",
   "pygments_lexer": "ipython3",
   "version": "3.6.4"
  }
 },
 "nbformat": 4,
 "nbformat_minor": 2
}
